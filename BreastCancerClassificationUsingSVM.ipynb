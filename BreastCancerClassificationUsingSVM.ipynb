{
  "nbformat": 4,
  "nbformat_minor": 0,
  "metadata": {
    "colab": {
      "provenance": [],
      "authorship_tag": "ABX9TyPOdW8f+TQNeUg0wS2bGjw5",
      "include_colab_link": true
    },
    "kernelspec": {
      "name": "python3",
      "display_name": "Python 3"
    },
    "language_info": {
      "name": "python"
    }
  },
  "cells": [
    {
      "cell_type": "markdown",
      "metadata": {
        "id": "view-in-github",
        "colab_type": "text"
      },
      "source": [
        "<a href=\"https://colab.research.google.com/github/Shrutisen2004/Breast-Cancer-Classification-Project/blob/main/BreastCancerClassificationUsingSVM.ipynb\" target=\"_parent\"><img src=\"https://colab.research.google.com/assets/colab-badge.svg\" alt=\"Open In Colab\"/></a>"
      ]
    },
    {
      "cell_type": "markdown",
      "source": [
        "# Importing the Libraries\n"
      ],
      "metadata": {
        "id": "gCHuN8RyMrVV"
      }
    },
    {
      "cell_type": "code",
      "execution_count": 1,
      "metadata": {
        "id": "po914GV-L8mh"
      },
      "outputs": [],
      "source": [
        "from sklearn import datasets\n",
        "from sklearn.model_selection import train_test_split\n",
        "from sklearn.preprocessing import StandardScaler\n",
        "from sklearn.metrics import accuracy_score\n",
        "from sklearn.svm import SVC"
      ]
    },
    {
      "cell_type": "markdown",
      "source": [
        "# Loading the Dataset"
      ],
      "metadata": {
        "id": "F8h62pKnMomh"
      }
    },
    {
      "cell_type": "code",
      "source": [
        "bcancer = datasets.load_breast_cancer()\n",
        "X = bcancer.data\n",
        "Y = bcancer.target"
      ],
      "metadata": {
        "id": "IGp1jA51NAkS"
      },
      "execution_count": 2,
      "outputs": []
    },
    {
      "cell_type": "markdown",
      "source": [
        "# Data Preprocessing"
      ],
      "metadata": {
        "id": "NPu6R4LxNpS2"
      }
    },
    {
      "cell_type": "code",
      "source": [
        "scaler = StandardScaler();\n",
        "X = scaler.fit_transform(X)\n",
        "Xtrain, Xtest, Ytrain, Ytest = train_test_split(X, Y, test_size = 0.25, random_state = 10)"
      ],
      "metadata": {
        "id": "i2ewHTQiNa5g"
      },
      "execution_count": 3,
      "outputs": []
    },
    {
      "cell_type": "markdown",
      "source": [
        "# Training and Evaluating The Linear SVM"
      ],
      "metadata": {
        "id": "279tZA4kON5F"
      }
    },
    {
      "cell_type": "code",
      "source": [
        "svmc=SVC(kernel='linear')\n",
        "svmc.fit(Xtrain,Ytrain)\n",
        "Ypred=svmc.predict(Xtest)\n",
        "svmcscore=accuracy_score(Ypred,Ytest)\n",
        "print('Accuracy score of Linear SVM Classifier is',100*svmcscore,'%\\n')"
      ],
      "metadata": {
        "colab": {
          "base_uri": "https://localhost:8080/"
        },
        "id": "HfrtLtw5N0wm",
        "outputId": "ae49b0a2-2ec2-40fe-88a7-496a769ad287"
      },
      "execution_count": 4,
      "outputs": [
        {
          "output_type": "stream",
          "name": "stdout",
          "text": [
            "Accuracy score of Linear SVM Classifier is 94.4055944055944 %\n",
            "\n"
          ]
        }
      ]
    },
    {
      "cell_type": "markdown",
      "source": [
        "# Training and Evaluating the Kernel SVM(RBF)"
      ],
      "metadata": {
        "id": "9Y80h_TFOz2B"
      }
    },
    {
      "cell_type": "code",
      "source": [
        "ksvmc = SVC(kernel='rbf')\n",
        "ksvmc.fit(Xtrain, Ytrain)\n",
        "Ypred = ksvmc.predict(Xtest)\n",
        "svmcscore = accuracy_score(Ypred, Ytest)\n",
        "print('Accuracy score of Kernel SVM Classifier with RBF is', 100*svmcscore, '%\\n')"
      ],
      "metadata": {
        "colab": {
          "base_uri": "https://localhost:8080/"
        },
        "id": "Dv0Wsud9OfWg",
        "outputId": "451a4441-3ae5-4b0a-e27a-25f787c99187"
      },
      "execution_count": 5,
      "outputs": [
        {
          "output_type": "stream",
          "name": "stdout",
          "text": [
            "Accuracy score of Kernel SVM Classifier with RBF is 97.9020979020979 %\n",
            "\n"
          ]
        }
      ]
    }
  ]
}